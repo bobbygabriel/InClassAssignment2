{
 "cells": [
  {
   "cell_type": "markdown",
   "id": "7b8e8c07",
   "metadata": {},
   "source": [
    "# Numpy- inclass assignment 2 (Group of two)\n",
    "## Submit your work using GitHub to Moodle"
   ]
  },
  {
   "cell_type": "markdown",
   "id": "4a478332",
   "metadata": {},
   "source": [
    "### Generate a random numpy array for Month of October where the highest temperature varies between 48-81 degree Farenheit\n",
    "- Keep in mind the length of the month\n",
    "- set a random seed of 1 for regenerate\n",
    "- Display the numpy array named `Temp_O` and find out the minimum and maximum temperature of month"
   ]
  },
  {
   "cell_type": "code",
   "execution_count": 27,
   "id": "2d897b42",
   "metadata": {},
   "outputs": [],
   "source": [
    "import numpy as np\n",
    "np.random.seed(1)\n",
    "Temp_O= np.random.randint(48,81, size=31)"
   ]
  },
  {
   "cell_type": "code",
   "execution_count": 28,
   "id": "a21e154d",
   "metadata": {},
   "outputs": [
    {
     "name": "stdout",
     "output_type": "stream",
     "text": [
      "Minimum temperature 48\n",
      "Maximum temperature 80\n"
     ]
    }
   ],
   "source": [
    "print(\"Minimum temperature\", Temp_O.min())\n",
    "print(\"Maximum temperature\", Temp_O.max())"
   ]
  },
  {
   "cell_type": "markdown",
   "id": "faba3521",
   "metadata": {},
   "source": [
    "### Load the numpy file contains the temperature of Month of December and store it to a variable named Temp_D"
   ]
  },
  {
   "cell_type": "code",
   "execution_count": 29,
   "id": "efe911c5",
   "metadata": {},
   "outputs": [],
   "source": [
    "Temp_D = np.load(\"Temp_December.npy\")"
   ]
  },
  {
   "cell_type": "markdown",
   "id": "641559dd",
   "metadata": {},
   "source": [
    "### Compare two numpy array - Temp_O and Temp_D\n",
    "- Elementwise\n",
    "- Arraywise"
   ]
  },
  {
   "cell_type": "code",
   "execution_count": 30,
   "id": "9bafdd82",
   "metadata": {},
   "outputs": [
    {
     "data": {
      "text/plain": [
       "array([ True,  True,  True,  True,  True,  True,  True,  True,  True,\n",
       "        True,  True,  True,  True,  True,  True,  True,  True,  True,\n",
       "        True,  True,  True,  True,  True,  True,  True,  True,  True,\n",
       "        True,  True,  True,  True])"
      ]
     },
     "execution_count": 30,
     "metadata": {},
     "output_type": "execute_result"
    }
   ],
   "source": [
    "Temp_O > Temp_D"
   ]
  },
  {
   "cell_type": "code",
   "execution_count": 40,
   "id": "f4345441",
   "metadata": {},
   "outputs": [
    {
     "data": {
      "text/plain": [
       "array([False, False, False, False, False, False, False, False, False,\n",
       "       False, False, False, False, False, False, False, False, False,\n",
       "       False, False, False, False, False, False, False, False, False,\n",
       "       False, False, False, False])"
      ]
     },
     "execution_count": 40,
     "metadata": {},
     "output_type": "execute_result"
    }
   ],
   "source": [
    "Temp_O < Temp_D"
   ]
  },
  {
   "cell_type": "code",
   "execution_count": 31,
   "id": "5d082766",
   "metadata": {},
   "outputs": [
    {
     "data": {
      "text/plain": [
       "array([False, False, False, False, False, False, False, False, False,\n",
       "       False, False, False, False, False, False, False, False, False,\n",
       "       False, False, False, False, False, False, False, False, False,\n",
       "       False, False, False, False])"
      ]
     },
     "execution_count": 31,
     "metadata": {},
     "output_type": "execute_result"
    }
   ],
   "source": [
    "Temp_O == Temp_D"
   ]
  },
  {
   "cell_type": "code",
   "execution_count": 32,
   "id": "e9fb504e",
   "metadata": {},
   "outputs": [
    {
     "data": {
      "text/plain": [
       "False"
      ]
     },
     "execution_count": 32,
     "metadata": {},
     "output_type": "execute_result"
    }
   ],
   "source": [
    "np.array_equal(Temp_O, Temp_D)"
   ]
  },
  {
   "cell_type": "markdown",
   "id": "7b1e5fc9",
   "metadata": {},
   "source": [
    "### Find out the:\n",
    "- Average temperature\n",
    "- Standard deviation\n",
    "- Varience\n",
    "- Minimum temp\n",
    "- Maximum temp\n",
    "- Median\n",
    "- Inter Quartile Range\n",
    "#### for Month of December"
   ]
  },
  {
   "cell_type": "code",
   "execution_count": 33,
   "id": "37a2a926",
   "metadata": {},
   "outputs": [
    {
     "name": "stdout",
     "output_type": "stream",
     "text": [
      "Average Temperature:  28.0\n",
      "Standard Deviation:  15.0\n",
      "Varience:  220.0\n",
      "Minimum Temperature:  7\n",
      "Maximum Temperature:  57\n",
      "Median Temperature  25.0\n",
      "Inter Quartile Range 23.0\n"
     ]
    }
   ],
   "source": [
    "print(\"Average Temperature: \", np.round(np.mean(Temp_D)))\n",
    "print(\"Standard Deviation: \", np.round(np.std(Temp_D)))\n",
    "print(\"Varience: \", np.round(np.var(Temp_D)))\n",
    "print(\"Minimum Temperature: \", np.min(Temp_D))\n",
    "print(\"Maximum Temperature: \", np.max(Temp_D))\n",
    "print(\"Median Temperature \", np.median(Temp_D))\n",
    "firstQuartile = np.percentile(Temp_D, 25)\n",
    "thirdQuartile = np.percentile(Temp_D, 75)\n",
    "InterQuartileRange = np.subtract(thirdQuartile, firstQuartile)\n",
    "print(\"Inter Quartile Range\", InterQuartileRange)"
   ]
  },
  {
   "cell_type": "markdown",
   "id": "732d294a",
   "metadata": {},
   "source": [
    "### Plot the distribution of December Temperature using Matplotlib\n",
    "- add title and create proper labels"
   ]
  },
  {
   "cell_type": "code",
   "execution_count": 34,
   "id": "d337d1e1",
   "metadata": {},
   "outputs": [],
   "source": [
    "import matplotlib.pyplot as plt"
   ]
  },
  {
   "cell_type": "code",
   "execution_count": 35,
   "id": "aef604a5",
   "metadata": {},
   "outputs": [
    {
     "data": {
      "image/png": "[encoded data removed]",
      "text/plain": [
       "<Figure size 432x288 with 1 Axes>"
      ]
     },
     "metadata": {
      "needs_background": "light"
     },
     "output_type": "display_data"
    }
   ],
   "source": [
    "plt.hist(Temp_D)\n",
    "plt.title('Temperature distribution of December')\n",
    "plt.xlabel('Temp - Farenheight')\n",
    "plt.ylabel('Number')\n",
    "plt.show()"
   ]
  },
  {
   "cell_type": "markdown",
   "id": "d48f4063",
   "metadata": {},
   "source": [
    "### Convert the Temp_D to Celsius and store it to a variable names Temp_C. \n",
    "- Round off the result\n",
    "- Save it to a numpy file called DecemberTemp_Celsius"
   ]
  },
  {
   "cell_type": "code",
   "execution_count": 36,
   "id": "84da7b3a",
   "metadata": {},
   "outputs": [],
   "source": [
    "Temp_C = np.round(((Temp_D-32)/9)*5)"
   ]
  },
  {
   "cell_type": "code",
   "execution_count": 37,
   "id": "607339b1",
   "metadata": {},
   "outputs": [
    {
     "name": "stdout",
     "output_type": "stream",
     "text": [
      "[  7.  10.  -7.  -9.  -9.  -8. -11.  -6. -14.  -5. -13.  -7. -10.  11.\n",
      " -11.   0.  14.  -3.   7.  -4.  -3.  -8.   9.   2.   2.  -6.  14. -12.\n",
      "  -1.  -1.   9.]\n"
     ]
    }
   ],
   "source": [
    "print(Temp_C)"
   ]
  },
  {
   "cell_type": "code",
   "execution_count": 38,
   "id": "a492cf61",
   "metadata": {},
   "outputs": [],
   "source": [
    "np.save(\"DecemberTemp_Celsius.npy\", Temp_C)"
   ]
  }
 ],
 "metadata": {
  "kernelspec": {
   "display_name": "base",
   "language": "python",
   "name": "python3"
  },
  "language_info": {
   "codemirror_mode": {
    "name": "ipython",
    "version": 3
   },
   "file_extension": ".py",
   "mimetype": "text/x-python",
   "name": "python",
   "nbconvert_exporter": "python",
   "pygments_lexer": "ipython3",
   "version": "3.9.12"
  },
  "vscode": {
   "interpreter": {
    "hash": "b0fe95d0b6d0371c9b53841164143507da0ed593a90bb0a5c5a2a010d08c0843"
   }
  }
 },
 "nbformat": 4,
 "nbformat_minor": 5
}
